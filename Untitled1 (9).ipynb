{
 "cells": [
  {
   "cell_type": "code",
   "execution_count": 1,
   "id": "02d9bcf6-3a22-4359-a89c-c66c6324dca1",
   "metadata": {},
   "outputs": [
    {
     "ename": "SyntaxError",
     "evalue": "invalid character '‘' (U+2018) (3805157738.py, line 3)",
     "output_type": "error",
     "traceback": [
      "\u001b[0;36m  Cell \u001b[0;32mIn[1], line 3\u001b[0;36m\u001b[0m\n\u001b[0;31m    list_ = [ ‘1’ , ’2’ , ‘3’ , ‘4’ , ‘5’ ]\u001b[0m\n\u001b[0m              ^\u001b[0m\n\u001b[0;31mSyntaxError\u001b[0m\u001b[0;31m:\u001b[0m invalid character '‘' (U+2018)\n"
     ]
    }
   ],
   "source": [
    "Consider the below code to answer further questions:\n",
    "import numpy as np\n",
    "list_ = [ ‘1’ , ’2’ , ‘3’ , ‘4’ , ‘5’ ]\n",
    "array_list = np.array(object = list_)\n",
    "Q1. Is there any difference in the data type of variables list_ and array_list? If there is then write a code\n",
    "to print the data types of both the variables.\n",
    "ans-\n",
    "Yes, there is a difference in the data type of variables list_ and array_list. The list_ variable is a Python list, while the array_list variable is a NumPy array.\n",
    "\n",
    "To print the data types of both variables, you can use the type() function in Python. Here's an example code snippet:\n",
    "\n",
    "python\n",
    "Copy code\n",
    "import numpy as np\n",
    "\n",
    "list_ = ['1', '2', '3', '4', '5']\n",
    "array_list = np.array(object=list_)\n",
    "\n",
    "print(\"Data type of 'list_':\", type(list_))\n",
    "print(\"Data type of 'array_list':\", type(array_list))\n",
    "This code creates the list_ and array_list variables as in the original code snippet, and then uses the type() function to print the data types of both variables to the console.\n",
    "\n",
    "\n",
    "\n",
    "\n"
   ]
  },
  {
   "cell_type": "code",
   "execution_count": null,
   "id": "72079d1d-1797-4596-a276-e2f431eeb0ee",
   "metadata": {},
   "outputs": [],
   "source": [
    "Q2. Write a code to print the data type of each and every element of both the variables list_ and\n",
    "arra_list.\n",
    "ans-\n",
    "To print the data type of each element in the list_ variable, you can loop through the list and use the type() function on each element. Here's an example code snippet:\n",
    "\n",
    "css\n",
    "Copy code\n",
    "list_ = ['1', '2', '3', '4', '5']\n",
    "for element in list_:\n",
    "    print(\"Data type of element\", element, \"in 'list_':\", type(element))\n",
    "This code loops through the list_ variable using a for loop, and then uses the type() function on each element to print its data type to the console.\n",
    "\n",
    "To print the data type of each element in the array_list variable, you can use the dtype attribute of the NumPy array. Here's an example code snippet:\n",
    "\n",
    "php\n",
    "Copy code\n",
    "import numpy as np\n",
    "\n",
    "list_ = ['1', '2', '3', '4', '5']\n",
    "array_list = np.array(object=list_)\n",
    "\n",
    "for element in array_list:\n",
    "    print(\"Data type of element\", element, \"in 'array_list':\", element.dtype)\n",
    "This code creates the list_ and array_list variables as in the original code snippet, and then loops through the array_list variable using a for loop. Inside the loop, the dtype attribute of each element is used to print its data type to the console.\n",
    "\n",
    "\n",
    "\n",
    "\n"
   ]
  },
  {
   "cell_type": "code",
   "execution_count": null,
   "id": "9f92672f-471b-4729-a90a-ea2d91efaf44",
   "metadata": {},
   "outputs": [],
   "source": []
  },
  {
   "cell_type": "code",
   "execution_count": 2,
   "id": "14333313-7dd9-427a-95ef-ad0c849e1965",
   "metadata": {},
   "outputs": [
    {
     "ename": "SyntaxError",
     "evalue": "invalid syntax (4137017069.py, line 1)",
     "output_type": "error",
     "traceback": [
      "\u001b[0;36m  Cell \u001b[0;32mIn[2], line 1\u001b[0;36m\u001b[0m\n\u001b[0;31m    Q3. Considering the following changes in the variable, array_list:\u001b[0m\n\u001b[0m                    ^\u001b[0m\n\u001b[0;31mSyntaxError\u001b[0m\u001b[0;31m:\u001b[0m invalid syntax\n"
     ]
    }
   ],
   "source": [
    "Q3. Considering the following changes in the variable, array_list:\n",
    "array_list = np.array(object = list_, dtype = int)\n",
    "ans-\n",
    "The statement array_list = np.array(object = list_, dtype = int) creates a new NumPy array named array_list from the list_ variable. The dtype=int parameter specifies that the data type of the new array should be integers.\n",
    "\n",
    "Here's an example code snippet to show the effect of this statement:\n",
    "\n",
    "php\n",
    "Copy code\n",
    "import numpy as np\n",
    "\n",
    "list_ = ['1', '2', '3', '4', '5']\n",
    "array_list = np.array(object=list_, dtype=int)\n",
    "\n",
    "print(\"Original 'list_':\", list_)\n",
    "print(\"New 'array_list':\", array_list)\n",
    "This code creates the list_ variable with string elements, and then creates a new NumPy array array_list with integer elements by specifying dtype=int in the np.array() function. The output of this code would be:\n",
    "\n",
    "sql\n",
    "Copy code\n",
    "Original 'list_': ['1', '2', '3', '4', '5']\n",
    "New 'array_list': [1 2 3 4 5]\n",
    "As you can see, the new array_list variable has the same elements as list_, but with integer data type instead of string.\n",
    "\n",
    "\n",
    "\n",
    "\n"
   ]
  },
  {
   "cell_type": "code",
   "execution_count": null,
   "id": "0dcb9967-e8f4-44db-b993-3b66c071cd47",
   "metadata": {},
   "outputs": [],
   "source": [
    "Q4. Write a code to find the following characteristics of variable, num_array:\n",
    "(i) shape\n",
    "(ii) size\n",
    "ans-\n",
    "To find the shape and size of a NumPy array num_array, you can use the shape and size attributes of the array object.\n",
    "\n",
    "Here's an example code snippet:\n",
    "\n",
    "lua\n",
    "Copy code\n",
    "import numpy as np\n",
    "\n",
    "num_array = np.array([[1, 2, 3], [4, 5, 6], [7, 8, 9]])\n",
    "\n",
    "print(\"Shape of 'num_array':\", num_array.shape)\n",
    "print(\"Size of 'num_array':\", num_array.size)\n",
    "In this code, we create a 3x3 NumPy array num_array with values 1 to 9. Then, we print the shape and size of this array using the shape and size attributes. The output of this code would be:\n",
    "\n",
    "arduino\n",
    "Copy code\n",
    "Shape of 'num_array': (3, 3)\n",
    "Size of 'num_array': 9\n",
    "As you can see, the shape of num_array is (3, 3) (indicating a 3-row by 3-column array), and the size of num_array is 9 (indicating there are 9 elements in the array).\n",
    "\n",
    "\n",
    "\n",
    "\n"
   ]
  },
  {
   "cell_type": "code",
   "execution_count": null,
   "id": "df9d3286-b65d-484a-84ea-84919885451a",
   "metadata": {},
   "outputs": [],
   "source": [
    "Q5. Write a code to create numpy array of 3*3 matrix containing zeros only, using a numpy array\n",
    "creation function.\n",
    "[Hint: The size of the array will be 9 and the shape will be (3,3).]\n",
    "Q6. Create an identity matrix of shape (5,5) using numpy functions?\n",
    "[Hint: An identity matrix is a matrix containing 1 diagonally and other elements will be 0.]\n",
    "ans-\n"
   ]
  },
  {
   "cell_type": "code",
   "execution_count": null,
   "id": "82bc9bd9-c17d-4be7-a608-f55b817d29a6",
   "metadata": {},
   "outputs": [],
   "source": []
  },
  {
   "cell_type": "code",
   "execution_count": null,
   "id": "89b0d33e-0f14-4ba6-9a2c-a2a416b7ff05",
   "metadata": {},
   "outputs": [],
   "source": []
  },
  {
   "cell_type": "code",
   "execution_count": null,
   "id": "ed61bfc9-84e4-451a-b484-a3ec42168019",
   "metadata": {},
   "outputs": [],
   "source": []
  },
  {
   "cell_type": "code",
   "execution_count": null,
   "id": "e2d6569d-c85b-46c9-b941-9bc0e37129f0",
   "metadata": {},
   "outputs": [],
   "source": []
  },
  {
   "cell_type": "code",
   "execution_count": null,
   "id": "876792f6-45af-4d37-b5ee-dc8c5226eb62",
   "metadata": {},
   "outputs": [],
   "source": []
  },
  {
   "cell_type": "code",
   "execution_count": null,
   "id": "c2d99cfa-7baf-4f71-b248-18b52bab3fd5",
   "metadata": {},
   "outputs": [],
   "source": []
  },
  {
   "cell_type": "code",
   "execution_count": null,
   "id": "3bb9220f-fb89-4225-b5c4-c827b2cd39ad",
   "metadata": {},
   "outputs": [],
   "source": []
  },
  {
   "cell_type": "code",
   "execution_count": null,
   "id": "52425a47-e75c-4a7c-8e15-fe0ecfe51e4f",
   "metadata": {},
   "outputs": [],
   "source": []
  },
  {
   "cell_type": "code",
   "execution_count": null,
   "id": "0a81ffe7-6885-4405-be25-4ff480c9e994",
   "metadata": {},
   "outputs": [],
   "source": []
  }
 ],
 "metadata": {
  "kernelspec": {
   "display_name": "Python 3 (ipykernel)",
   "language": "python",
   "name": "python3"
  },
  "language_info": {
   "codemirror_mode": {
    "name": "ipython",
    "version": 3
   },
   "file_extension": ".py",
   "mimetype": "text/x-python",
   "name": "python",
   "nbconvert_exporter": "python",
   "pygments_lexer": "ipython3",
   "version": "3.10.8"
  }
 },
 "nbformat": 4,
 "nbformat_minor": 5
}
